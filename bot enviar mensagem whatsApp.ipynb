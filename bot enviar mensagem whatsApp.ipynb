{
 "cells": [
  {
   "cell_type": "code",
   "execution_count": 117,
   "id": "67c67210",
   "metadata": {},
   "outputs": [],
   "source": [
    "from selenium import webdriver\n",
    "from selenium.webdriver.common.keys import Keys\n",
    "from selenium.webdriver.common.by import By\n",
    "import pandas as dp\n",
    "import urllib\n",
    "import time\n",
    "\n",
    "\n",
    "tabela_msg = pd.read_excel(\"enviar.xlsx\")\n",
    "\n",
    "navegador = webdriver.Chrome()\n",
    "navegador.get(\"https://web.whatsapp.com/\")\n",
    "\n",
    "while len(navegador.find_elements(By.ID, 'pane-side')) == 0:\n",
    "    time.sleep(1)\n",
    "    \n",
    "    \n",
    "\n",
    "for i, mensagem in enumerate(tabela_msg[\"Mensagem\"]):\n",
    "        pessoa = tabela_msg.loc[i, \"Pessoa\"]\n",
    "        numero = tabela_msg.loc[i, \"Número\"]\n",
    "        texto = urllib.parse.quote(f\"{pessoa}, {mensagem}\")\n",
    "        link = f\"https://web.whatsapp.com/send?phone={numero}&text={texto}\"\n",
    "        navegador.get(link)\n",
    "        time.sleep(2)\n",
    "        \n",
    "        while len(navegador.find_elements(By.ID, 'pane-side')) == 0:\n",
    "            time.sleep(1)\n",
    "        navegador.find_element(By.XPATH, '//*[@id=\"main\"]/footer/div[1]/div/span[2]/div/div[2]/div[2]').click()\n",
    "        time.sleep(5)"
   ]
  }
 ],
 "metadata": {
  "kernelspec": {
   "display_name": "Python 3 (ipykernel)",
   "language": "python",
   "name": "python3"
  },
  "language_info": {
   "codemirror_mode": {
    "name": "ipython",
    "version": 3
   },
   "file_extension": ".py",
   "mimetype": "text/x-python",
   "name": "python",
   "nbconvert_exporter": "python",
   "pygments_lexer": "ipython3",
   "version": "3.9.7"
  }
 },
 "nbformat": 4,
 "nbformat_minor": 5
}
